{
 "cells": [
  {
   "cell_type": "code",
   "execution_count": 133,
   "id": "23e8363d-aa3a-4e5e-b0a2-568f2b395096",
   "metadata": {},
   "outputs": [
    {
     "name": "stdout",
     "output_type": "stream",
     "text": [
      "{TreeNode(value=2)}\n",
      "{TreeNode(value=3)}\n",
      "set()\n",
      "{TreeNode(value=2)}\n",
      "{TreeNode(value=3), TreeNode(value=4)}\n",
      "set()\n",
      "set()\n",
      "{TreeNode(value=2)}\n",
      "{TreeNode(value=3), TreeNode(value=4)}\n",
      "set()\n",
      "set()\n",
      "{TreeNode(value=1)}\n",
      "{TreeNode(value=2)}\n",
      "{TreeNode(value=3), TreeNode(value=4)}\n",
      "set()\n",
      "set()\n"
     ]
    }
   ],
   "source": [
    "import importlib\n",
    "import figaro_util\n",
    "import dataset\n",
    "import pandas as pd\n",
    "\n",
    "importlib.reload(figaro_util)\n",
    "from figaro_util import *   # refreshes all top-level symbols\n",
    "importlib.reload(dataset)\n",
    "from dataset import *   # refreshes all top-level symbols\n",
    "import ast"
   ]
  },
  {
   "cell_type": "code",
   "execution_count": 2,
   "id": "61580b97-79c6-4472-b645-c2ed8b1e9183",
   "metadata": {},
   "outputs": [
    {
     "ename": "NameError",
     "evalue": "name 'three_node_table_access' is not defined",
     "output_type": "error",
     "traceback": [
      "\u001b[31m---------------------------------------------------------------------------\u001b[39m",
      "\u001b[31mNameError\u001b[39m                                 Traceback (most recent call last)",
      "\u001b[36mCell\u001b[39m\u001b[36m \u001b[39m\u001b[32mIn[2]\u001b[39m\u001b[32m, line 1\u001b[39m\n\u001b[32m----> \u001b[39m\u001b[32m1\u001b[39m \u001b[38;5;28mprint\u001b[39m(up_result(\u001b[32m2\u001b[39m, \u001b[43mthree_node_table_access\u001b[49m, three_node_tree, {\u001b[33m\"\u001b[39m\u001b[33mX1,2\u001b[39m\u001b[33m\"\u001b[39m: \u001b[33m\"\u001b[39m\u001b[33mb1\u001b[39m\u001b[33m\"\u001b[39m}))\n\u001b[32m      2\u001b[39m \u001b[38;5;28mprint\u001b[39m()\n\u001b[32m      3\u001b[39m \u001b[38;5;28mprint\u001b[39m(up_result(\u001b[32m2\u001b[39m, three_node_table_access, three_node_tree, {\u001b[33m\"\u001b[39m\u001b[33mX1,2\u001b[39m\u001b[33m\"\u001b[39m: \u001b[33m\"\u001b[39m\u001b[33mb2\u001b[39m\u001b[33m\"\u001b[39m}))\n",
      "\u001b[31mNameError\u001b[39m: name 'three_node_table_access' is not defined"
     ]
    }
   ],
   "source": [
    "print(up_result(2, three_node_table_access, three_node_tree, {\"X1,2\": \"b1\"}))\n",
    "print()\n",
    "print(up_result(2, three_node_table_access, three_node_tree, {\"X1,2\": \"b2\"}))\n",
    "print()\n",
    "print(up_result(3, three_node_table_access, three_node_tree, {\"X2,3\": \"c1\"}))\n",
    "print()\n",
    "print(up_result(1, three_node_table_access, three_node_tree, {}))\n",
    "print()"
   ]
  },
  {
   "cell_type": "code",
   "execution_count": 136,
   "id": "2f9d9bd7-a89a-4efb-a1e3-b8cf44e23b08",
   "metadata": {},
   "outputs": [
    {
     "name": "stdout",
     "output_type": "stream",
     "text": [
      "   Y2 X1,2\n",
      "0  a1   b1\n",
      "1  a2   b2\n",
      "\n",
      "  X1,2  Y1 X2,3  Y2  Y3\n",
      "0   b1  10   c1  a1  d1\n",
      "1   b1  10   c1  a1  d2\n",
      "\n",
      "  X1,2  Y1 X2,3  Y2  Y3\n",
      "0   b2  20   c1  a2  d1\n",
      "1   b2  20   c1  a2  d2\n",
      "2   b2  30   c1  a2  d1\n",
      "3   b2  30   c1  a2  d2\n",
      "\n"
     ]
    }
   ],
   "source": [
    "print(down_result(2, three_node_table_access, three_node_tree, {\"X2,3\": \"c1\"}))\n",
    "print()\n",
    "print(down_result(1, three_node_table_access, three_node_tree, {\"X1,2\": \"b1\"}))\n",
    "print()\n",
    "print(down_result(1, three_node_table_access, three_node_tree, {\"X1,2\": \"b2\"}))\n",
    "print()"
   ]
  },
  {
   "cell_type": "code",
   "execution_count": 137,
   "id": "39207a4b-7f70-477d-98cf-90059e8790fd",
   "metadata": {},
   "outputs": [
    {
     "ename": "IndexError",
     "evalue": "list index out of range",
     "output_type": "error",
     "traceback": [
      "\u001b[31m---------------------------------------------------------------------------\u001b[39m",
      "\u001b[31mIndexError\u001b[39m                                Traceback (most recent call last)",
      "\u001b[36mCell\u001b[39m\u001b[36m \u001b[39m\u001b[32mIn[137]\u001b[39m\u001b[32m, line 1\u001b[39m\n\u001b[32m----> \u001b[39m\u001b[32m1\u001b[39m \u001b[38;5;28mprint\u001b[39m(\u001b[43melse_result\u001b[49m\u001b[43m(\u001b[49m\u001b[32;43m1\u001b[39;49m\u001b[43m,\u001b[49m\u001b[43m \u001b[49m\u001b[43mthree_node_table_access\u001b[49m\u001b[43m,\u001b[49m\u001b[43m \u001b[49m\u001b[43mthree_node_tree\u001b[49m\u001b[43m,\u001b[49m\u001b[43m \u001b[49m\u001b[43m{\u001b[49m\u001b[33;43m\"\u001b[39;49m\u001b[33;43mX1,2\u001b[39;49m\u001b[33;43m\"\u001b[39;49m\u001b[43m:\u001b[49m\u001b[43m \u001b[49m\u001b[33;43m\"\u001b[39;49m\u001b[33;43mb1\u001b[39;49m\u001b[33;43m\"\u001b[39;49m\u001b[43m}\u001b[49m\u001b[43m)\u001b[49m)\n\u001b[32m      2\u001b[39m \u001b[38;5;28mprint\u001b[39m()\n\u001b[32m      3\u001b[39m \u001b[38;5;28mprint\u001b[39m(else_result(\u001b[32m1\u001b[39m, three_node_table_access, three_node_tree, {\u001b[33m\"\u001b[39m\u001b[33mX1,2\u001b[39m\u001b[33m\"\u001b[39m: \u001b[33m\"\u001b[39m\u001b[33mb2\u001b[39m\u001b[33m\"\u001b[39m}))\n",
      "\u001b[36mFile \u001b[39m\u001b[32m~/Desktop/phd/code/figaro_util.py:149\u001b[39m, in \u001b[36melse_result\u001b[39m\u001b[34m(index, table_access, tree_access, key_value_map)\u001b[39m\n\u001b[32m    146\u001b[39m root = tree_access[root_index]\n\u001b[32m    147\u001b[39m current_node = tree_access[index]\n\u001b[32m--> \u001b[39m\u001b[32m149\u001b[39m \u001b[38;5;28;01mreturn\u001b[39;00m \u001b[43mjoin_table_with_all_nodes_on_subtree\u001b[49m\u001b[43m(\u001b[49m\u001b[43mroot\u001b[49m\u001b[43m,\u001b[49m\u001b[43m \u001b[49m\u001b[43mtable_access\u001b[49m\u001b[43m,\u001b[49m\u001b[43m \u001b[49m\u001b[43mkey_value_map\u001b[49m\u001b[43m,\u001b[49m\u001b[43m \u001b[49m\u001b[43mblocked_nodes\u001b[49m\u001b[43m=\u001b[49m\u001b[43m{\u001b[49m\u001b[43m}\u001b[49m\u001b[43m,\u001b[49m\u001b[43m \u001b[49m\u001b[43mskipped_node\u001b[49m\u001b[43m=\u001b[49m\u001b[43mcurrent_node\u001b[49m\u001b[43m)\u001b[49m\n",
      "\u001b[36mFile \u001b[39m\u001b[32m~/Desktop/phd/code/figaro_util.py:100\u001b[39m, in \u001b[36mjoin_table_with_all_nodes_on_subtree\u001b[39m\u001b[34m(tree_node, table_access, key_value_map, blocked_nodes, skipped_node)\u001b[39m\n\u001b[32m     98\u001b[39m     child_table = join_table_with_all_nodes_on_subtree(child, table_access, key_value_map, blocked_nodes, skipped_node)\n\u001b[32m     99\u001b[39m     common_key = find_key(result_table, child_table)\n\u001b[32m--> \u001b[39m\u001b[32m100\u001b[39m     result_table = \u001b[43mpd\u001b[49m\u001b[43m.\u001b[49m\u001b[43mmerge\u001b[49m\u001b[43m(\u001b[49m\u001b[43mresult_table\u001b[49m\u001b[43m,\u001b[49m\u001b[43m \u001b[49m\u001b[43mchild_table\u001b[49m\u001b[43m,\u001b[49m\u001b[43m \u001b[49m\u001b[43mon\u001b[49m\u001b[43m=\u001b[49m\u001b[43mcommon_key\u001b[49m\u001b[43m,\u001b[49m\u001b[43m \u001b[49m\u001b[43mhow\u001b[49m\u001b[43m=\u001b[49m\u001b[33;43m\"\u001b[39;49m\u001b[33;43minner\u001b[39;49m\u001b[33;43m\"\u001b[39;49m\u001b[43m)\u001b[49m\n\u001b[32m    102\u001b[39m \u001b[38;5;28;01mreturn\u001b[39;00m result_table\n",
      "\u001b[36mFile \u001b[39m\u001b[32m~/.pyenv/versions/3.11.13/lib/python3.11/site-packages/pandas/core/reshape/merge.py:184\u001b[39m, in \u001b[36mmerge\u001b[39m\u001b[34m(left, right, how, on, left_on, right_on, left_index, right_index, sort, suffixes, copy, indicator, validate)\u001b[39m\n\u001b[32m    169\u001b[39m \u001b[38;5;28;01melse\u001b[39;00m:\n\u001b[32m    170\u001b[39m     op = _MergeOperation(\n\u001b[32m    171\u001b[39m         left_df,\n\u001b[32m    172\u001b[39m         right_df,\n\u001b[32m   (...)\u001b[39m\u001b[32m    182\u001b[39m         validate=validate,\n\u001b[32m    183\u001b[39m     )\n\u001b[32m--> \u001b[39m\u001b[32m184\u001b[39m     \u001b[38;5;28;01mreturn\u001b[39;00m \u001b[43mop\u001b[49m\u001b[43m.\u001b[49m\u001b[43mget_result\u001b[49m\u001b[43m(\u001b[49m\u001b[43mcopy\u001b[49m\u001b[43m=\u001b[49m\u001b[43mcopy\u001b[49m\u001b[43m)\u001b[49m\n",
      "\u001b[36mFile \u001b[39m\u001b[32m~/.pyenv/versions/3.11.13/lib/python3.11/site-packages/pandas/core/reshape/merge.py:886\u001b[39m, in \u001b[36m_MergeOperation.get_result\u001b[39m\u001b[34m(self, copy)\u001b[39m\n\u001b[32m    883\u001b[39m \u001b[38;5;28;01mif\u001b[39;00m \u001b[38;5;28mself\u001b[39m.indicator:\n\u001b[32m    884\u001b[39m     \u001b[38;5;28mself\u001b[39m.left, \u001b[38;5;28mself\u001b[39m.right = \u001b[38;5;28mself\u001b[39m._indicator_pre_merge(\u001b[38;5;28mself\u001b[39m.left, \u001b[38;5;28mself\u001b[39m.right)\n\u001b[32m--> \u001b[39m\u001b[32m886\u001b[39m join_index, left_indexer, right_indexer = \u001b[38;5;28;43mself\u001b[39;49m\u001b[43m.\u001b[49m\u001b[43m_get_join_info\u001b[49m\u001b[43m(\u001b[49m\u001b[43m)\u001b[49m\n\u001b[32m    888\u001b[39m result = \u001b[38;5;28mself\u001b[39m._reindex_and_concat(\n\u001b[32m    889\u001b[39m     join_index, left_indexer, right_indexer, copy=copy\n\u001b[32m    890\u001b[39m )\n\u001b[32m    891\u001b[39m result = result.__finalize__(\u001b[38;5;28mself\u001b[39m, method=\u001b[38;5;28mself\u001b[39m._merge_type)\n",
      "\u001b[36mFile \u001b[39m\u001b[32m~/.pyenv/versions/3.11.13/lib/python3.11/site-packages/pandas/core/reshape/merge.py:1152\u001b[39m, in \u001b[36m_MergeOperation._get_join_info\u001b[39m\u001b[34m(self)\u001b[39m\n\u001b[32m   1148\u001b[39m     join_index, right_indexer, left_indexer = _left_join_on_index(\n\u001b[32m   1149\u001b[39m         right_ax, left_ax, \u001b[38;5;28mself\u001b[39m.right_join_keys, sort=\u001b[38;5;28mself\u001b[39m.sort\n\u001b[32m   1150\u001b[39m     )\n\u001b[32m   1151\u001b[39m \u001b[38;5;28;01melse\u001b[39;00m:\n\u001b[32m-> \u001b[39m\u001b[32m1152\u001b[39m     (left_indexer, right_indexer) = \u001b[38;5;28;43mself\u001b[39;49m\u001b[43m.\u001b[49m\u001b[43m_get_join_indexers\u001b[49m\u001b[43m(\u001b[49m\u001b[43m)\u001b[49m\n\u001b[32m   1154\u001b[39m     \u001b[38;5;28;01mif\u001b[39;00m \u001b[38;5;28mself\u001b[39m.right_index:\n\u001b[32m   1155\u001b[39m         \u001b[38;5;28;01mif\u001b[39;00m \u001b[38;5;28mlen\u001b[39m(\u001b[38;5;28mself\u001b[39m.left) > \u001b[32m0\u001b[39m:\n",
      "\u001b[36mFile \u001b[39m\u001b[32m~/.pyenv/versions/3.11.13/lib/python3.11/site-packages/pandas/core/reshape/merge.py:1126\u001b[39m, in \u001b[36m_MergeOperation._get_join_indexers\u001b[39m\u001b[34m(self)\u001b[39m\n\u001b[32m   1124\u001b[39m \u001b[38;5;66;03m# make mypy happy\u001b[39;00m\n\u001b[32m   1125\u001b[39m \u001b[38;5;28;01massert\u001b[39;00m \u001b[38;5;28mself\u001b[39m.how != \u001b[33m\"\u001b[39m\u001b[33masof\u001b[39m\u001b[33m\"\u001b[39m\n\u001b[32m-> \u001b[39m\u001b[32m1126\u001b[39m \u001b[38;5;28;01mreturn\u001b[39;00m \u001b[43mget_join_indexers\u001b[49m\u001b[43m(\u001b[49m\n\u001b[32m   1127\u001b[39m \u001b[43m    \u001b[49m\u001b[38;5;28;43mself\u001b[39;49m\u001b[43m.\u001b[49m\u001b[43mleft_join_keys\u001b[49m\u001b[43m,\u001b[49m\u001b[43m \u001b[49m\u001b[38;5;28;43mself\u001b[39;49m\u001b[43m.\u001b[49m\u001b[43mright_join_keys\u001b[49m\u001b[43m,\u001b[49m\u001b[43m \u001b[49m\u001b[43msort\u001b[49m\u001b[43m=\u001b[49m\u001b[38;5;28;43mself\u001b[39;49m\u001b[43m.\u001b[49m\u001b[43msort\u001b[49m\u001b[43m,\u001b[49m\u001b[43m \u001b[49m\u001b[43mhow\u001b[49m\u001b[43m=\u001b[49m\u001b[38;5;28;43mself\u001b[39;49m\u001b[43m.\u001b[49m\u001b[43mhow\u001b[49m\n\u001b[32m   1128\u001b[39m \u001b[43m\u001b[49m\u001b[43m)\u001b[49m\n",
      "\u001b[36mFile \u001b[39m\u001b[32m~/.pyenv/versions/3.11.13/lib/python3.11/site-packages/pandas/core/reshape/merge.py:1720\u001b[39m, in \u001b[36mget_join_indexers\u001b[39m\u001b[34m(left_keys, right_keys, sort, how)\u001b[39m\n\u001b[32m   1715\u001b[39m \u001b[38;5;28;01massert\u001b[39;00m \u001b[38;5;28mlen\u001b[39m(left_keys) == \u001b[38;5;28mlen\u001b[39m(\n\u001b[32m   1716\u001b[39m     right_keys\n\u001b[32m   1717\u001b[39m ), \u001b[33m\"\u001b[39m\u001b[33mleft_keys and right_keys must be the same length\u001b[39m\u001b[33m\"\u001b[39m\n\u001b[32m   1719\u001b[39m \u001b[38;5;66;03m# fast-path for empty left/right\u001b[39;00m\n\u001b[32m-> \u001b[39m\u001b[32m1720\u001b[39m left_n = \u001b[38;5;28mlen\u001b[39m(\u001b[43mleft_keys\u001b[49m\u001b[43m[\u001b[49m\u001b[32;43m0\u001b[39;49m\u001b[43m]\u001b[49m)\n\u001b[32m   1721\u001b[39m right_n = \u001b[38;5;28mlen\u001b[39m(right_keys[\u001b[32m0\u001b[39m])\n\u001b[32m   1722\u001b[39m \u001b[38;5;28;01mif\u001b[39;00m left_n == \u001b[32m0\u001b[39m:\n",
      "\u001b[31mIndexError\u001b[39m: list index out of range"
     ]
    }
   ],
   "source": [
    "print(else_result(1, three_node_table_access, three_node_tree, {\"X1,2\": \"b1\"}))\n",
    "print()\n",
    "print(else_result(1, three_node_table_access, three_node_tree, {\"X1,2\": \"b2\"}))\n",
    "print()\n",
    "\n",
    "\n",
    "print(else_result(2, three_node_table_access, three_node_tree, {\"X1,2\": \"b1\", \"X2,3\": \"c1\"}))\n",
    "print()\n",
    "print(else_result(2, three_node_table_access, three_node_tree, {\"X1,2\": \"b2\", \"X2,3\": \"c1\"}))\n",
    "print()"
   ]
  },
  {
   "cell_type": "markdown",
   "id": "80cf2545-318e-41e0-9698-d4e59516cc54",
   "metadata": {},
   "source": [
    "# Four node example #"
   ]
  },
  {
   "cell_type": "code",
   "execution_count": 4,
   "id": "14ee1060-1a85-4427-ba6d-abf0bec8691d",
   "metadata": {},
   "outputs": [
    {
     "name": "stdout",
     "output_type": "stream",
     "text": [
      "{TreeNode(value=2)}\n",
      "{TreeNode(value=3), TreeNode(value=4)}\n",
      "set()\n",
      "set()\n"
     ]
    }
   ],
   "source": [
    "# create root\n",
    "s1 = TreeNode(1)\n",
    "\n",
    "s2 = TreeNode(2, parent=s1)\n",
    "\n",
    "s3 = TreeNode(3, parent=s2)\n",
    "\n",
    "s4 = TreeNode(4, parent=s2)\n",
    "\n",
    "# add another child explicitly\n",
    "print(s1.children)\n",
    "print(s2.children)\n",
    "print(s3.children)\n",
    "print(s4.children)\n",
    "\n",
    "\n",
    "four_node_tree = {\n",
    "    1: s1,\n",
    "    2: s2,\n",
    "    3: s3,\n",
    "    4: s4\n",
    "}"
   ]
  },
  {
   "cell_type": "code",
   "execution_count": 5,
   "id": "5c7f6c84-5551-4867-afa4-470a7945523f",
   "metadata": {},
   "outputs": [],
   "source": [
    "import pandas as pd\n",
    "\n",
    "four_node_table_access = {\n",
    "    1: pd.DataFrame({\n",
    "        \"X1,2\": [\"a1\", \"a2\", \"a2\", \"a3\"],\n",
    "        \"Y1\":   [\"b1\", \"b2\", \"b3\", \"b4\"]\n",
    "    }),\n",
    "    \n",
    "    2: pd.DataFrame({\n",
    "        \"X1,2\": [\"a1\", \"a1\", \"a2\", \"a3\"],\n",
    "        \"X2,3\": [\"c1\", \"c2\", \"c2\", \"c3\"],\n",
    "        \"X2,4\": [\"d1\", \"d1\", \"d2\", \"d3\"],\n",
    "        \"Y2\":   [\"e1\", \"e2\", \"e3\", \"e4\"]\n",
    "    }),\n",
    "    \n",
    "    3: pd.DataFrame({\n",
    "        \"X2,3\": [\"c1\", \"c1\", \"c2\", \"c3\"],\n",
    "        \"Y3\":   [\"f1\", \"f2\", \"f3\", \"f4\"]\n",
    "    }),\n",
    "    \n",
    "    4: pd.DataFrame({\n",
    "        \"X2,4\": [\"d1\", \"d1\", \"d2\", \"d3\"],\n",
    "        \"Y4\":   [\"g1\", \"g2\", \"g3\", \"g4\"]\n",
    "    })\n",
    "}"
   ]
  },
  {
   "cell_type": "code",
   "execution_count": 6,
   "id": "06c58743-be4d-4d19-b801-8c62e5fc258f",
   "metadata": {},
   "outputs": [
    {
     "name": "stdout",
     "output_type": "stream",
     "text": [
      "  X1,2  Y1 X2,3 X2,4  Y2  Y3  Y4\n",
      "0   a1  b1   c1   d1  e1  f1  g1\n",
      "1   a1  b1   c1   d1  e1  f1  g2\n",
      "2   a1  b1   c1   d1  e1  f2  g1\n",
      "3   a1  b1   c1   d1  e1  f2  g2\n",
      "4   a1  b1   c2   d1  e2  f3  g1\n",
      "5   a1  b1   c2   d1  e2  f3  g2\n",
      "6   a2  b2   c2   d2  e3  f3  g3\n",
      "7   a2  b3   c2   d2  e3  f3  g3\n",
      "8   a3  b4   c3   d3  e4  f4  g4\n"
     ]
    }
   ],
   "source": [
    "print(all_result(1, four_node_table_access, four_node_tree))"
   ]
  },
  {
   "cell_type": "code",
   "execution_count": 7,
   "id": "2ed18386-1b36-447d-adbb-affe609c4dae",
   "metadata": {},
   "outputs": [
    {
     "name": "stdout",
     "output_type": "stream",
     "text": [
      "  X1,2 X2,3 X2,4  Y2  Y3  Y4\n",
      "0   a1   c1   d1  e1  f1  g1\n",
      "1   a1   c1   d1  e1  f1  g2\n",
      "2   a1   c1   d1  e1  f2  g1\n",
      "3   a1   c1   d1  e1  f2  g2\n",
      "4   a1   c2   d1  e2  f3  g1\n",
      "5   a1   c2   d1  e2  f3  g2\n"
     ]
    }
   ],
   "source": [
    "print(else_result(1, four_node_table_access, four_node_tree, {\"X1,2\": \"a1\"}))"
   ]
  },
  {
   "cell_type": "code",
   "execution_count": 8,
   "id": "b51ae64f-6d2a-4bae-9540-7b3cfcbdf8e8",
   "metadata": {},
   "outputs": [
    {
     "name": "stdout",
     "output_type": "stream",
     "text": [
      "  X1,2  Y1 X2,3 X2,4  Y3  Y4\n",
      "0   a1  b1   c1   d1  f1  g1\n",
      "1   a1  b1   c1   d1  f1  g2\n",
      "2   a1  b1   c1   d1  f2  g1\n",
      "3   a1  b1   c1   d1  f2  g2\n"
     ]
    }
   ],
   "source": [
    "print(else_result(2, four_node_table_access, four_node_tree, {\"X1,2\": \"a1\", \"X2,3\": \"c1\", \"X2,4\": \"d1\"}))"
   ]
  },
  {
   "cell_type": "markdown",
   "id": "aad4ea78-97bb-48e9-87b8-486c28b5747a",
   "metadata": {},
   "source": [
    "# FIGARO #"
   ]
  },
  {
   "cell_type": "code",
   "execution_count": 122,
   "id": "a617ddd9-6786-4ec1-b92f-8137bb88ef27",
   "metadata": {},
   "outputs": [],
   "source": [
    "def initialise_empty_data(output_column_names):\n",
    "    Data = pd.DataFrame(columns=output_column_names)\n",
    "    scales = {}\n",
    "    return Data, scales\n",
    "    "
   ]
  },
  {
   "cell_type": "code",
   "execution_count": 123,
   "id": "021a70ac-1d68-4c8b-acd6-64e31f6c73b0",
   "metadata": {},
   "outputs": [],
   "source": [
    "def figaro(root_index, index, table_access, tree_access, wrap_singleton=True):\n",
    "    output_column_names = sorted([f\"Y{key}\" for key in table_access.keys()])\n",
    "    Data, scales = initialise_empty_data(output_column_names)\n",
    "    head_and_tails(Data, scales, index, table_access, tree_access, wrap_singleton)\n",
    "    current_node = tree_access[index]\n",
    "    if current_node.children:\n",
    "        process_and_join_children(Data, scales, root_index, index, table_access, tree_access,  wrap_singleton)\n",
    "        if index != root_index:\n",
    "            Data,scales = project_away_join_attributes(Data, scales, index, table_access, tree_access, wrap_singleton)\n",
    "\n",
    "    print(f\"data at index {index}:\")\n",
    "    print(Data)\n",
    "    return Data, scales\n",
    "    \n",
    "    \n",
    "def head_and_tails(Data, scales, index, table_access, tree_access, wrap_singleton):\n",
    "    current_table = table_access[index]\n",
    "    join_key_columns = sorted([column_name for column_name in current_table.columns.tolist() if column_name.startswith(\"X\")])\n",
    "    output_column = f\"Y{index}\"\n",
    "\n",
    "    # Group by join keys to get lists of Y values\n",
    "    grouped = current_table.groupby(join_key_columns)[output_column].apply(list).reset_index()\n",
    "    \n",
    "    # Directly write each row to Data\n",
    "    for _, row in grouped.iterrows():\n",
    "        row_index = str(construct_row_index_dict(index, row, join_key_columns))\n",
    "        head_value = Head(row[output_column], wrap_singleton)\n",
    "        fill_in_data(Data, row_index, output_column, head_value)\n",
    "        # print(row[join_key_columns].to_dict())\n",
    "        # composite_key = f\"{', '.join(row[join_key_columns])}\"\n",
    "        if not wrap_singleton and len(row[output_column]) == 1:\n",
    "            scales[row_index] = \"1\"\n",
    "        else:\n",
    "            scales[row_index] = f\"sqrt({len(row[output_column])})\"\n",
    "    \n",
    "    # return Data, scales"
   ]
  },
  {
   "cell_type": "code",
   "execution_count": 124,
   "id": "bcf40ed3-270d-447a-85dc-4191c015fea1",
   "metadata": {},
   "outputs": [],
   "source": [
    "def process_and_join_children(Data, scales, root_index, index, table_access, tree_access, wrap_singleton):\n",
    "    current_node = tree_access[index]\n",
    "    current_table = table_access[index]\n",
    "    join_key_columns = sorted([column_name for column_name in current_table.columns.tolist() if column_name.startswith(\"X\")])\n",
    "\n",
    "    child_Data_dict = {}\n",
    "    child_scales_dict = {}\n",
    "    \n",
    "    for child in current_node.children:\n",
    "        child_index = child.value\n",
    "        child_Data, child_scales = figaro(root_index, child_index, table_access, tree_access, wrap_singleton)\n",
    "        child_Data_dict[child_index] = child_Data\n",
    "        child_scales_dict[child_index] = child_scales\n",
    "        \n",
    "    # Group by join keys to get lists of Y values\n",
    "    output_column_i = f\"Y{index}\"\n",
    "    grouped = current_table.groupby(join_key_columns)[output_column_i].apply(list).reset_index()\n",
    "    \n",
    "    for _, row in grouped.iterrows():\n",
    "        row_index_dict = construct_row_index_dict(index, row, join_key_columns)\n",
    "        row_index = str(row_index_dict)\n",
    "        \n",
    "        projected_value_i = Data.loc[row_index, output_column_i]\n",
    "        new_scale_i = scales[row_index]\n",
    "        \n",
    "        for child in current_node.children:\n",
    "            j = child.value\n",
    "            Data_j = child_Data_dict[j]\n",
    "            scales_j = child_scales_dict[j]\n",
    "            \n",
    "            all_node_indices = get_all_indices_on_subtree(child)\n",
    "            table_j = table_access[j]\n",
    "            common_keys_j = find_key(current_table, table_j)\n",
    "            projected_row_index_dict_j = {key: row_index_dict[key] for key in sorted(common_keys_j) if key in row_index_dict}\n",
    "            projected_row_index_j = str(projected_row_index_dict_j)\n",
    "            \n",
    "            \n",
    "            for k in all_node_indices:\n",
    "                output_column_k = f\"Y{k}\"\n",
    "                projected_value_k = multiply(scales[row_index], Data_j.loc[projected_row_index_j, output_column_k])\n",
    "                \n",
    "                for j_prime in child_scales_dict:\n",
    "                    if j_prime != j:\n",
    "                        table_j_prime = table_access[j_prime]\n",
    "                        scale_j_prime = child_scales_dict[j_prime]\n",
    "                        common_keys_j_prime = find_key(current_table, table_j_prime)\n",
    "                        projected_row_index_dict_j_prime = {key: row_index_dict[key] for key in sorted(common_keys_j_prime) if key in row_index_dict}\n",
    "                        projected_row_index_j_prime = str(projected_row_index_dict_j_prime)\n",
    "                        projected_value_k = multiply(scale_j_prime[projected_row_index_j_prime], projected_value_k)\n",
    "\n",
    "                fill_in_data(Data, row_index, output_column_k, projected_value_k)\n",
    "\n",
    "            \n",
    "            projected_value_i = multiply(scales_j[projected_row_index_j], projected_value_i)\n",
    "            new_scale_i = multiply(scales_j[projected_row_index_j], new_scale_i)\n",
    "        \n",
    "        fill_in_data(Data, row_index, output_column_i, projected_value_i)\n",
    "        scales[row_index] = new_scale_i\n"
   ]
  },
  {
   "cell_type": "code",
   "execution_count": 125,
   "id": "cdafbe5b-e153-4243-b9fa-407d0733f539",
   "metadata": {},
   "outputs": [],
   "source": [
    "def project_away_join_attributes(Data, scales, index, table_access, tree_access, wrap_singleton):\n",
    "    current_node = tree_access[index]\n",
    "    current_table = table_access[index]\n",
    "\n",
    "    parent_index = current_node.parent.value\n",
    "    parent_table = table_access[parent_index]\n",
    "\n",
    "    common_keys_with_parent = find_key(current_table, parent_table)\n",
    "\n",
    "    output_column_names = sorted([f\"Y{key}\" for key in table_access.keys()])\n",
    "    _, scales_prime = initialise_empty_data(output_column_names)\n",
    "    \n",
    "    Data_prime = data_projection(Data, scales, common_keys_with_parent, wrap_singleton)\n",
    "    \n",
    "    for key in Data_prime.index:\n",
    "        key_value_map = ast.literal_eval(key)\n",
    "        down_result_scale = down_result(index, table_access, tree_access, key_value_map).shape[0]\n",
    "        if down_result_scale == 1 and not wrap_singleton:\n",
    "            scales_prime[key] = \"1\"\n",
    "        else:\n",
    "            scales_prime[key] = f\"sqrt({down_result_scale})\"\n",
    "\n",
    "    print(f\"after projection to {parent_index}\")\n",
    "    print(Data_prime)\n",
    "    return Data_prime, scales_prime"
   ]
  },
  {
   "cell_type": "code",
   "execution_count": 111,
   "id": "2f44dcc6-bb5d-4290-a3e8-bb6001baf261",
   "metadata": {},
   "outputs": [],
   "source": [
    "pd.set_option('display.max_colwidth', None)"
   ]
  },
  {
   "cell_type": "code",
   "execution_count": 115,
   "id": "883be0a6-f742-4178-be9c-4e767b6f5dc0",
   "metadata": {},
   "outputs": [
    {
     "name": "stdout",
     "output_type": "stream",
     "text": [
      "data at index 3:\n",
      "               Y1 Y2         Y3\n",
      "{'X2,3': 'c1'}  0  0  H(d1, d2)\n",
      "after projection to 1\n",
      "                                                       Y1  \\\n",
      "{'X1,2': 'b1'}  (sqrt(2)*sqrt(1)*0)/Norm(sqrt(2)*sqrt(1))   \n",
      "{'X1,2': 'b2'}  (sqrt(2)*sqrt(2)*0)/Norm(sqrt(2)*sqrt(2))   \n",
      "\n",
      "                                                                       Y2  \\\n",
      "{'X1,2': 'b1'}      (sqrt(2)*sqrt(1)*sqrt(2)*H(10))/Norm(sqrt(2)*sqrt(1))   \n",
      "{'X1,2': 'b2'}  (sqrt(2)*sqrt(2)*sqrt(2)*H(20, 30))/Norm(sqrt(2)*sqrt(2))   \n",
      "\n",
      "                                                                       Y3  \n",
      "{'X1,2': 'b1'}          (sqrt(2)*sqrt(1)*H(d1, d2))/Norm(sqrt(2)*sqrt(1))  \n",
      "{'X1,2': 'b2'}  (sqrt(2)*sqrt(2)*sqrt(2)*H(d1, d2))/Norm(sqrt(2)*sqrt(2))  \n",
      "data at index 2:\n",
      "                                                       Y1  \\\n",
      "{'X1,2': 'b1'}  (sqrt(2)*sqrt(1)*0)/Norm(sqrt(2)*sqrt(1))   \n",
      "{'X1,2': 'b2'}  (sqrt(2)*sqrt(2)*0)/Norm(sqrt(2)*sqrt(2))   \n",
      "\n",
      "                                                                       Y2  \\\n",
      "{'X1,2': 'b1'}      (sqrt(2)*sqrt(1)*sqrt(2)*H(10))/Norm(sqrt(2)*sqrt(1))   \n",
      "{'X1,2': 'b2'}  (sqrt(2)*sqrt(2)*sqrt(2)*H(20, 30))/Norm(sqrt(2)*sqrt(2))   \n",
      "\n",
      "                                                                       Y3  \n",
      "{'X1,2': 'b1'}          (sqrt(2)*sqrt(1)*H(d1, d2))/Norm(sqrt(2)*sqrt(1))  \n",
      "{'X1,2': 'b2'}  (sqrt(2)*sqrt(2)*sqrt(2)*H(d1, d2))/Norm(sqrt(2)*sqrt(2))  \n",
      "data at index 1:\n",
      "                           Y1  \\\n",
      "{'X1,2': 'b1'}  sqrt(2)*H(a1)   \n",
      "{'X1,2': 'b2'}  sqrt(4)*H(a2)   \n",
      "\n",
      "                                                                       Y2  \\\n",
      "{'X1,2': 'b1'}      (sqrt(2)*sqrt(1)*sqrt(2)*H(10))/Norm(sqrt(2)*sqrt(1))   \n",
      "{'X1,2': 'b2'}  (sqrt(2)*sqrt(2)*sqrt(2)*H(20, 30))/Norm(sqrt(2)*sqrt(2))   \n",
      "\n",
      "                                                                       Y3  \n",
      "{'X1,2': 'b1'}          (sqrt(2)*sqrt(1)*H(d1, d2))/Norm(sqrt(2)*sqrt(1))  \n",
      "{'X1,2': 'b2'}  (sqrt(2)*sqrt(2)*sqrt(2)*H(d1, d2))/Norm(sqrt(2)*sqrt(2))  \n",
      "                           Y1  \\\n",
      "{'X1,2': 'b1'}  sqrt(2)*H(a1)   \n",
      "{'X1,2': 'b2'}  sqrt(4)*H(a2)   \n",
      "\n",
      "                                                                       Y2  \\\n",
      "{'X1,2': 'b1'}      (sqrt(2)*sqrt(1)*sqrt(2)*H(10))/Norm(sqrt(2)*sqrt(1))   \n",
      "{'X1,2': 'b2'}  (sqrt(2)*sqrt(2)*sqrt(2)*H(20, 30))/Norm(sqrt(2)*sqrt(2))   \n",
      "\n",
      "                                                                       Y3  \n",
      "{'X1,2': 'b1'}          (sqrt(2)*sqrt(1)*H(d1, d2))/Norm(sqrt(2)*sqrt(1))  \n",
      "{'X1,2': 'b2'}  (sqrt(2)*sqrt(2)*sqrt(2)*H(d1, d2))/Norm(sqrt(2)*sqrt(2))  \n"
     ]
    }
   ],
   "source": [
    "Data, scales = figaro(1, 1, three_node_table_access_v1, three_node_tree_v1)\n",
    "print(Data)"
   ]
  },
  {
   "cell_type": "code",
   "execution_count": 114,
   "id": "b904c1ed-c5bc-41bd-a67e-eb508ea534aa",
   "metadata": {},
   "outputs": [
    {
     "name": "stdout",
     "output_type": "stream",
     "text": [
      "data at index 2:\n",
      "               Y1     Y2 Y3\n",
      "{'X1,2': 'b1'}  0  H(a1)  0\n",
      "{'X1,2': 'b2'}  0  H(a2)  0\n",
      "data at index 3:\n",
      "               Y1 Y2         Y3\n",
      "{'X1,3': 'c1'}  0  0  H(d1, d2)\n",
      "data at index 1:\n",
      "                                             Y1                     Y2  \\\n",
      "{'X1,2': 'b1', 'X1,3': 'c1'}      sqrt(2)*H(10)          sqrt(2)*H(a1)   \n",
      "{'X1,2': 'b2', 'X1,3': 'c1'}  sqrt(2)*H(20, 30)  sqrt(2)*sqrt(2)*H(a2)   \n",
      "\n",
      "                                             Y3  \n",
      "{'X1,2': 'b1', 'X1,3': 'c1'}          H(d1, d2)  \n",
      "{'X1,2': 'b2', 'X1,3': 'c1'}  sqrt(2)*H(d1, d2)  \n",
      "                                             Y1                     Y2  \\\n",
      "{'X1,2': 'b1', 'X1,3': 'c1'}      sqrt(2)*H(10)          sqrt(2)*H(a1)   \n",
      "{'X1,2': 'b2', 'X1,3': 'c1'}  sqrt(2)*H(20, 30)  sqrt(2)*sqrt(2)*H(a2)   \n",
      "\n",
      "                                             Y3  \n",
      "{'X1,2': 'b1', 'X1,3': 'c1'}          H(d1, d2)  \n",
      "{'X1,2': 'b2', 'X1,3': 'c1'}  sqrt(2)*H(d1, d2)  \n"
     ]
    }
   ],
   "source": [
    "Data, scales = figaro(1, 1, three_node_table_access_v2, three_node_tree_v2)\n",
    "print(Data)"
   ]
  },
  {
   "cell_type": "code",
   "execution_count": 95,
   "id": "a130aa2f-0a62-4eaa-9e5f-6e42007a4b26",
   "metadata": {},
   "outputs": [
    {
     "name": "stdout",
     "output_type": "stream",
     "text": [
      "data at index 3:\n",
      "               Y1 Y2     Y3\n",
      "{'X2,3': 'b1'}  0  0  H(a1)\n",
      "{'X2,3': 'b2'}  0  0  H(a2)\n",
      "after projection to 1\n",
      "                                             Y1  \\\n",
      "{'X1,2': 'c1'}  (1*0+sqrt(2)*0)/Norm(1,sqrt(2))   \n",
      "\n",
      "                                                         Y2  \\\n",
      "{'X1,2': 'c1'}  (1*H(10)+sqrt(2)*H(20, 30))/Norm(1,sqrt(2))   \n",
      "\n",
      "                                                             Y3  \n",
      "{'X1,2': 'c1'}  (1*H(a1)+sqrt(2)*sqrt(2)*H(a2))/Norm(1,sqrt(2))  \n",
      "data at index 2:\n",
      "                                             Y1  \\\n",
      "{'X1,2': 'c1'}  (1*0+sqrt(2)*0)/Norm(1,sqrt(2))   \n",
      "\n",
      "                                                         Y2  \\\n",
      "{'X1,2': 'c1'}  (1*H(10)+sqrt(2)*H(20, 30))/Norm(1,sqrt(2))   \n",
      "\n",
      "                                                             Y3  \n",
      "{'X1,2': 'c1'}  (1*H(a1)+sqrt(2)*sqrt(2)*H(a2))/Norm(1,sqrt(2))  \n",
      "data at index 1:\n",
      "                               Y1  \\\n",
      "{'X1,2': 'c1'}  sqrt(3)*H(d1, d2)   \n",
      "\n",
      "                                                                 Y2  \\\n",
      "{'X1,2': 'c1'}  sqrt(2)*(1*H(10)+sqrt(2)*H(20, 30))/Norm(1,sqrt(2))   \n",
      "\n",
      "                                                                     Y3  \n",
      "{'X1,2': 'c1'}  sqrt(2)*(1*H(a1)+sqrt(2)*sqrt(2)*H(a2))/Norm(1,sqrt(2))  \n"
     ]
    }
   ],
   "source": [
    "Data, scales = figaro(3, 1, 1, three_node_table_access_v3, three_node_tree_v3)\n",
    "# print(Data)"
   ]
  },
  {
   "cell_type": "code",
   "execution_count": 132,
   "id": "bfdc9de8-9e68-4353-8295-b0708ca24263",
   "metadata": {},
   "outputs": [
    {
     "name": "stdout",
     "output_type": "stream",
     "text": [
      "data at index 3:\n",
      "               Y1 Y2  Y3 Y4\n",
      "{'X2,3': 'c1'}  0  0  e1  0\n",
      "{'X2,3': 'c2'}  0  0  e2  0\n",
      "data at index 4:\n",
      "               Y1 Y2 Y3  Y4\n",
      "{'X2,4': 'd1'}  0  0  0  f1\n",
      "after projection to 1\n",
      "                                           Y1  \\\n",
      "{'X1,2': 'b1'}                              0   \n",
      "{'X1,2': 'b2'}  (sqrt(2)*0+0)/Norm(sqrt(2),1)   \n",
      "\n",
      "                                                    Y2  \\\n",
      "{'X1,2': 'b1'}                                      10   \n",
      "{'X1,2': 'b2'}  (sqrt(2)*H(20, 30)+40)/Norm(sqrt(2),1)   \n",
      "\n",
      "                                                     Y3  \\\n",
      "{'X1,2': 'b1'}                                       e1   \n",
      "{'X1,2': 'b2'}  (sqrt(2)*sqrt(2)*e1+e2)/Norm(sqrt(2),1)   \n",
      "\n",
      "                                                     Y4  \n",
      "{'X1,2': 'b1'}                                       f1  \n",
      "{'X1,2': 'b2'}  (sqrt(2)*sqrt(2)*f1+f1)/Norm(sqrt(2),1)  \n",
      "data at index 2:\n",
      "                                           Y1  \\\n",
      "{'X1,2': 'b1'}                              0   \n",
      "{'X1,2': 'b2'}  (sqrt(2)*0+0)/Norm(sqrt(2),1)   \n",
      "\n",
      "                                                    Y2  \\\n",
      "{'X1,2': 'b1'}                                      10   \n",
      "{'X1,2': 'b2'}  (sqrt(2)*H(20, 30)+40)/Norm(sqrt(2),1)   \n",
      "\n",
      "                                                     Y3  \\\n",
      "{'X1,2': 'b1'}                                       e1   \n",
      "{'X1,2': 'b2'}  (sqrt(2)*sqrt(2)*e1+e2)/Norm(sqrt(2),1)   \n",
      "\n",
      "                                                     Y4  \n",
      "{'X1,2': 'b1'}                                       f1  \n",
      "{'X1,2': 'b2'}  (sqrt(2)*sqrt(2)*f1+f1)/Norm(sqrt(2),1)  \n",
      "data at index 1:\n",
      "                        Y1                                      Y2  \\\n",
      "{'X1,2': 'b1'}          a1                                      10   \n",
      "{'X1,2': 'b2'}  sqrt(3)*a2  (sqrt(2)*H(20, 30)+40)/Norm(sqrt(2),1)   \n",
      "\n",
      "                                                     Y3  \\\n",
      "{'X1,2': 'b1'}                                       e1   \n",
      "{'X1,2': 'b2'}  (sqrt(2)*sqrt(2)*e1+e2)/Norm(sqrt(2),1)   \n",
      "\n",
      "                                                     Y4  \n",
      "{'X1,2': 'b1'}                                       f1  \n",
      "{'X1,2': 'b2'}  (sqrt(2)*sqrt(2)*f1+f1)/Norm(sqrt(2),1)  \n"
     ]
    }
   ],
   "source": [
    "Data, scales = figaro(1, 1, four_node_four_rows_table_access_v1, four_node_four_rows_tree_v1, wrap_singleton=False)\n",
    "# print(Data)"
   ]
  },
  {
   "cell_type": "code",
   "execution_count": 134,
   "id": "13c3a7f1-bd6d-41ca-90e3-abc512ea0b05",
   "metadata": {},
   "outputs": [
    {
     "name": "stdout",
     "output_type": "stream",
     "text": [
      "data at index 3:\n",
      "               Y0 Y1 Y2  Y3 Y4\n",
      "{'X2,3': 'c1'}  0  0  0  e1  0\n",
      "{'X2,3': 'c2'}  0  0  0  e2  0\n",
      "data at index 4:\n",
      "               Y0 Y1 Y2 Y3  Y4\n",
      "{'X2,4': 'd1'}  0  0  0  0  f1\n",
      "after projection to 1\n",
      "                                           Y0                             Y1  \\\n",
      "{'X1,2': 'b1'}                              0                              0   \n",
      "{'X1,2': 'b2'}  (sqrt(2)*0+0)/Norm(sqrt(2),1)  (sqrt(2)*0+0)/Norm(sqrt(2),1)   \n",
      "\n",
      "                                                    Y2  \\\n",
      "{'X1,2': 'b1'}                                      10   \n",
      "{'X1,2': 'b2'}  (sqrt(2)*H(20, 30)+40)/Norm(sqrt(2),1)   \n",
      "\n",
      "                                                     Y3  \\\n",
      "{'X1,2': 'b1'}                                       e1   \n",
      "{'X1,2': 'b2'}  (sqrt(2)*sqrt(2)*e1+e2)/Norm(sqrt(2),1)   \n",
      "\n",
      "                                                     Y4  \n",
      "{'X1,2': 'b1'}                                       f1  \n",
      "{'X1,2': 'b2'}  (sqrt(2)*sqrt(2)*f1+f1)/Norm(sqrt(2),1)  \n",
      "data at index 2:\n",
      "                                           Y0                             Y1  \\\n",
      "{'X1,2': 'b1'}                              0                              0   \n",
      "{'X1,2': 'b2'}  (sqrt(2)*0+0)/Norm(sqrt(2),1)  (sqrt(2)*0+0)/Norm(sqrt(2),1)   \n",
      "\n",
      "                                                    Y2  \\\n",
      "{'X1,2': 'b1'}                                      10   \n",
      "{'X1,2': 'b2'}  (sqrt(2)*H(20, 30)+40)/Norm(sqrt(2),1)   \n",
      "\n",
      "                                                     Y3  \\\n",
      "{'X1,2': 'b1'}                                       e1   \n",
      "{'X1,2': 'b2'}  (sqrt(2)*sqrt(2)*e1+e2)/Norm(sqrt(2),1)   \n",
      "\n",
      "                                                     Y4  \n",
      "{'X1,2': 'b1'}                                       f1  \n",
      "{'X1,2': 'b2'}  (sqrt(2)*sqrt(2)*f1+f1)/Norm(sqrt(2),1)  \n",
      "after projection to 0\n",
      "                                               Y0  \\\n",
      "{'X0,1': 't1'}  (0+sqrt(3)*1*0)/Norm(1,sqrt(3)*1)   \n",
      "\n",
      "                                                         Y1  \\\n",
      "{'X0,1': 't1'}  (a1+sqrt(3)*1*sqrt(3)*a2)/Norm(1,sqrt(3)*1)   \n",
      "\n",
      "                                                                                     Y2  \\\n",
      "{'X0,1': 't1'}  (10+sqrt(3)*1*(sqrt(2)*H(20, 30)+40)/Norm(sqrt(2),1))/Norm(1,sqrt(3)*1)   \n",
      "\n",
      "                                                                                      Y3  \\\n",
      "{'X0,1': 't1'}  (e1+sqrt(3)*1*(sqrt(2)*sqrt(2)*e1+e2)/Norm(sqrt(2),1))/Norm(1,sqrt(3)*1)   \n",
      "\n",
      "                                                                                      Y4  \n",
      "{'X0,1': 't1'}  (f1+sqrt(3)*1*(sqrt(2)*sqrt(2)*f1+f1)/Norm(sqrt(2),1))/Norm(1,sqrt(3)*1)  \n",
      "data at index 1:\n",
      "                                               Y0  \\\n",
      "{'X0,1': 't1'}  (0+sqrt(3)*1*0)/Norm(1,sqrt(3)*1)   \n",
      "\n",
      "                                                         Y1  \\\n",
      "{'X0,1': 't1'}  (a1+sqrt(3)*1*sqrt(3)*a2)/Norm(1,sqrt(3)*1)   \n",
      "\n",
      "                                                                                     Y2  \\\n",
      "{'X0,1': 't1'}  (10+sqrt(3)*1*(sqrt(2)*H(20, 30)+40)/Norm(sqrt(2),1))/Norm(1,sqrt(3)*1)   \n",
      "\n",
      "                                                                                      Y3  \\\n",
      "{'X0,1': 't1'}  (e1+sqrt(3)*1*(sqrt(2)*sqrt(2)*e1+e2)/Norm(sqrt(2),1))/Norm(1,sqrt(3)*1)   \n",
      "\n",
      "                                                                                      Y4  \n",
      "{'X0,1': 't1'}  (f1+sqrt(3)*1*(sqrt(2)*sqrt(2)*f1+f1)/Norm(sqrt(2),1))/Norm(1,sqrt(3)*1)  \n",
      "data at index 0:\n",
      "                        Y0                                           Y1  \\\n",
      "{'X0,1': 't1'}  sqrt(4)*z1  (a1+sqrt(3)*1*sqrt(3)*a2)/Norm(1,sqrt(3)*1)   \n",
      "\n",
      "                                                                                     Y2  \\\n",
      "{'X0,1': 't1'}  (10+sqrt(3)*1*(sqrt(2)*H(20, 30)+40)/Norm(sqrt(2),1))/Norm(1,sqrt(3)*1)   \n",
      "\n",
      "                                                                                      Y3  \\\n",
      "{'X0,1': 't1'}  (e1+sqrt(3)*1*(sqrt(2)*sqrt(2)*e1+e2)/Norm(sqrt(2),1))/Norm(1,sqrt(3)*1)   \n",
      "\n",
      "                                                                                      Y4  \n",
      "{'X0,1': 't1'}  (f1+sqrt(3)*1*(sqrt(2)*sqrt(2)*f1+f1)/Norm(sqrt(2),1))/Norm(1,sqrt(3)*1)  \n"
     ]
    }
   ],
   "source": [
    "Data, scales = figaro(0, 0, five_node_padded_from_four_table_access_v1, five_node_padded_from_four_tree_v1, wrap_singleton=False)\n",
    "# print(Data)"
   ]
  },
  {
   "cell_type": "code",
   "execution_count": null,
   "id": "3c827083-9dea-4bc2-afa0-00e111fb53b7",
   "metadata": {},
   "outputs": [],
   "source": []
  }
 ],
 "metadata": {
  "kernelspec": {
   "display_name": "Python 3 (ipykernel)",
   "language": "python",
   "name": "python3"
  },
  "language_info": {
   "codemirror_mode": {
    "name": "ipython",
    "version": 3
   },
   "file_extension": ".py",
   "mimetype": "text/x-python",
   "name": "python",
   "nbconvert_exporter": "python",
   "pygments_lexer": "ipython3",
   "version": "3.11.13"
  }
 },
 "nbformat": 4,
 "nbformat_minor": 5
}
