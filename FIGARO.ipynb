{
 "cells": [
  {
   "cell_type": "code",
   "execution_count": 42,
   "id": "23e8363d-aa3a-4e5e-b0a2-568f2b395096",
   "metadata": {},
   "outputs": [],
   "source": [
    "import importlib\n",
    "import figaro_util\n",
    "\n",
    "importlib.reload(figaro_util)\n",
    "from figaro_util import *   # refreshes all top-level symbols"
   ]
  },
  {
   "cell_type": "code",
   "execution_count": 36,
   "id": "53a8e0f1-eec7-4b1f-bbc5-28e745cfe80f",
   "metadata": {},
   "outputs": [
    {
     "name": "stdout",
     "output_type": "stream",
     "text": [
      "{TreeNode(value=2)}\n",
      "{TreeNode(value=3)}\n",
      "set()\n"
     ]
    }
   ],
   "source": [
    "# create root\n",
    "s1 = TreeNode(1)\n",
    "\n",
    "s2 = TreeNode(2, parent=s1)\n",
    "\n",
    "s3 = TreeNode(3, parent=s2)\n",
    "\n",
    "# add another child explicitly\n",
    "print(s1.children)\n",
    "print(s2.children)\n",
    "print(s3.children)\n",
    "\n",
    "tree = {\n",
    "    1: s1,\n",
    "    2: s2,\n",
    "    3: s3\n",
    "}"
   ]
  },
  {
   "cell_type": "code",
   "execution_count": 37,
   "id": "cd026afc-606c-4901-8f57-521e5ec57864",
   "metadata": {},
   "outputs": [],
   "source": [
    "import pandas as pd\n",
    "\n",
    "tables = {\n",
    "    1: pd.DataFrame({\"Y1\":[\"a1\", \"a2\", \"a3\"], \"X1,2\":[\"b1\", \"b2\", \"b2\"]}),\n",
    "    2: pd.DataFrame({\"X1,2\":[\"b1\", \"b2\", \"b2\", \"b2\"], \"Y2\":[\"10\", \"20\", \"30\", \"40\"], \"X2,3\":[\"c1\", \"c1\", \"c1\", \"c1\"]}),\n",
    "    3: pd.DataFrame({\"X2,3\":[\"c1\", \"c1\"], \"Y3\":[\"d1\", \"d2\"]})\n",
    "}"
   ]
  },
  {
   "cell_type": "code",
   "execution_count": 43,
   "id": "61580b97-79c6-4472-b645-c2ed8b1e9183",
   "metadata": {},
   "outputs": [
    {
     "name": "stdout",
     "output_type": "stream",
     "text": [
      "   Y1 X1,2\n",
      "0  a1   b1\n",
      "\n",
      "   Y1 X1,2\n",
      "0  a2   b2\n",
      "1  a3   b2\n",
      "\n",
      "   Y1 X1,2  Y2 X2,3\n",
      "0  a1   b1  10   c1\n",
      "1  a2   b2  20   c1\n",
      "2  a2   b2  30   c1\n",
      "3  a2   b2  40   c1\n",
      "4  a3   b2  20   c1\n",
      "5  a3   b2  30   c1\n",
      "6  a3   b2  40   c1\n",
      "\n",
      "Empty DataFrame\n",
      "Columns: []\n",
      "Index: []\n",
      "\n"
     ]
    }
   ],
   "source": [
    "print(up_result(2, tables, tree, {\"X1,2\": \"b1\"}))\n",
    "print()\n",
    "print(up_result(2, tables, tree, {\"X1,2\": \"b2\"}))\n",
    "print()\n",
    "print(up_result(3, tables, tree, {\"X2,3\": \"c1\"}))\n",
    "print()\n",
    "print(up_result(1, tables, tree, {}))\n",
    "print()"
   ]
  },
  {
   "cell_type": "code",
   "execution_count": 44,
   "id": "2f9d9bd7-a89a-4efb-a1e3-b8cf44e23b08",
   "metadata": {},
   "outputs": [
    {
     "name": "stdout",
     "output_type": "stream",
     "text": [
      "  X1,2  Y2 X2,3  Y3\n",
      "0   b1  10   c1  d1\n",
      "1   b1  10   c1  d2\n",
      "2   b2  20   c1  d1\n",
      "3   b2  20   c1  d2\n",
      "4   b2  30   c1  d1\n",
      "5   b2  30   c1  d2\n",
      "6   b2  40   c1  d1\n",
      "7   b2  40   c1  d2\n",
      "\n",
      "   Y1 X1,2  Y2 X2,3  Y3\n",
      "0  a1   b1  10   c1  d1\n",
      "1  a1   b1  10   c1  d2\n",
      "\n",
      "    Y1 X1,2  Y2 X2,3  Y3\n",
      "0   a2   b2  20   c1  d1\n",
      "1   a2   b2  20   c1  d2\n",
      "2   a2   b2  30   c1  d1\n",
      "3   a2   b2  30   c1  d2\n",
      "4   a2   b2  40   c1  d1\n",
      "5   a2   b2  40   c1  d2\n",
      "6   a3   b2  20   c1  d1\n",
      "7   a3   b2  20   c1  d2\n",
      "8   a3   b2  30   c1  d1\n",
      "9   a3   b2  30   c1  d2\n",
      "10  a3   b2  40   c1  d1\n",
      "11  a3   b2  40   c1  d2\n",
      "\n"
     ]
    }
   ],
   "source": [
    "print(down_result(2, tables, tree, {\"X2,3\": \"c1\"}))\n",
    "print()\n",
    "print(down_result(1, tables, tree, {\"X1,2\": \"b1\"}))\n",
    "print()\n",
    "print(down_result(1, tables, tree, {\"X1,2\": \"b2\"}))\n",
    "print()"
   ]
  },
  {
   "cell_type": "code",
   "execution_count": 47,
   "id": "39207a4b-7f70-477d-98cf-90059e8790fd",
   "metadata": {},
   "outputs": [
    {
     "name": "stdout",
     "output_type": "stream",
     "text": [
      "  X1,2  Y2 X2,3  Y3\n",
      "0   b1  10   c1  d1\n",
      "1   b1  10   c1  d2\n",
      "\n",
      "  X1,2  Y2 X2,3  Y3\n",
      "0   b2  20   c1  d1\n",
      "1   b2  20   c1  d2\n",
      "2   b2  30   c1  d1\n",
      "3   b2  30   c1  d2\n",
      "4   b2  40   c1  d1\n",
      "5   b2  40   c1  d2\n",
      "\n"
     ]
    },
    {
     "ename": "ValueError",
     "evalue": "No common key found between tables",
     "output_type": "error",
     "traceback": [
      "\u001b[31m---------------------------------------------------------------------------\u001b[39m",
      "\u001b[31mValueError\u001b[39m                                Traceback (most recent call last)",
      "\u001b[36mCell\u001b[39m\u001b[36m \u001b[39m\u001b[32mIn[47]\u001b[39m\u001b[32m, line 7\u001b[39m\n\u001b[32m      3\u001b[39m \u001b[38;5;28mprint\u001b[39m(all_result(\u001b[32m1\u001b[39m, tables, tree, {\u001b[33m\"\u001b[39m\u001b[33mX1,2\u001b[39m\u001b[33m\"\u001b[39m: \u001b[33m\"\u001b[39m\u001b[33mb2\u001b[39m\u001b[33m\"\u001b[39m}))\n\u001b[32m      4\u001b[39m \u001b[38;5;28mprint\u001b[39m()\n\u001b[32m----> \u001b[39m\u001b[32m7\u001b[39m \u001b[38;5;28mprint\u001b[39m(\u001b[43mall_result\u001b[49m\u001b[43m(\u001b[49m\u001b[32;43m2\u001b[39;49m\u001b[43m,\u001b[49m\u001b[43m \u001b[49m\u001b[43mtables\u001b[49m\u001b[43m,\u001b[49m\u001b[43m \u001b[49m\u001b[43mtree\u001b[49m\u001b[43m,\u001b[49m\u001b[43m \u001b[49m\u001b[43m{\u001b[49m\u001b[33;43m\"\u001b[39;49m\u001b[33;43mX2,3\u001b[39;49m\u001b[33;43m\"\u001b[39;49m\u001b[43m:\u001b[49m\u001b[43m \u001b[49m\u001b[33;43m\"\u001b[39;49m\u001b[33;43mc1\u001b[39;49m\u001b[33;43m\"\u001b[39;49m\u001b[43m}\u001b[49m\u001b[43m)\u001b[49m)\n\u001b[32m      8\u001b[39m \u001b[38;5;28mprint\u001b[39m()\n",
      "\u001b[36mFile \u001b[39m\u001b[32m~/Desktop/phd/code/figaro_util.py:131\u001b[39m, in \u001b[36mall_result\u001b[39m\u001b[34m(index, table_access, tree_access, key_value_map)\u001b[39m\n\u001b[32m    128\u001b[39m all_nodes = get_all_nodes_on_subtree(root)\n\u001b[32m    129\u001b[39m all_nodes.remove(index)\n\u001b[32m--> \u001b[39m\u001b[32m131\u001b[39m \u001b[38;5;28;01mreturn\u001b[39;00m \u001b[43mjoin_result\u001b[49m\u001b[43m(\u001b[49m\u001b[43mtable_access\u001b[49m\u001b[43m,\u001b[49m\u001b[43m \u001b[49m\u001b[43mall_nodes\u001b[49m\u001b[43m,\u001b[49m\u001b[43m \u001b[49m\u001b[43mkey_value_map\u001b[49m\u001b[43m)\u001b[49m\n",
      "\u001b[36mFile \u001b[39m\u001b[32m~/Desktop/phd/code/figaro_util.py:94\u001b[39m, in \u001b[36mjoin_result\u001b[39m\u001b[34m(table_access, indices_of_nodes, key_value_map)\u001b[39m\n\u001b[32m     91\u001b[39m tables = [table_access[i] \u001b[38;5;28;01mfor\u001b[39;00m i \u001b[38;5;129;01min\u001b[39;00m indices_of_nodes]\n\u001b[32m     93\u001b[39m \u001b[38;5;66;03m# Join all tables on 'key'    \u001b[39;00m\n\u001b[32m---> \u001b[39m\u001b[32m94\u001b[39m joined = \u001b[43mrecursive_join\u001b[49m\u001b[43m(\u001b[49m\u001b[43mtables\u001b[49m\u001b[43m)\u001b[49m\n\u001b[32m     96\u001b[39m \u001b[38;5;66;03m# build mask dynamically\u001b[39;00m\n\u001b[32m     97\u001b[39m mask = pd.Series(\u001b[38;5;28;01mTrue\u001b[39;00m, index=joined.index)\n",
      "\u001b[36mFile \u001b[39m\u001b[32m~/Desktop/phd/code/figaro_util.py:79\u001b[39m, in \u001b[36mrecursive_join\u001b[39m\u001b[34m(tables)\u001b[39m\n\u001b[32m     77\u001b[39m \u001b[38;5;28;01mif\u001b[39;00m \u001b[38;5;28mlen\u001b[39m(tables) == \u001b[32m2\u001b[39m:\n\u001b[32m     78\u001b[39m     S1, S2 = tables\n\u001b[32m---> \u001b[39m\u001b[32m79\u001b[39m     join_cols = \u001b[43mfind_key\u001b[49m\u001b[43m(\u001b[49m\u001b[43mS1\u001b[49m\u001b[43m,\u001b[49m\u001b[43m \u001b[49m\u001b[43mS2\u001b[49m\u001b[43m)\u001b[49m\n\u001b[32m     80\u001b[39m     \u001b[38;5;28;01mreturn\u001b[39;00m pd.merge(S1, S2, on=join_cols, how=\u001b[33m\"\u001b[39m\u001b[33minner\u001b[39m\u001b[33m\"\u001b[39m)\n\u001b[32m     81\u001b[39m \u001b[38;5;28;01melse\u001b[39;00m:\n\u001b[32m     82\u001b[39m     \u001b[38;5;66;03m# join first with recursive join of the rest\u001b[39;00m\n",
      "\u001b[36mFile \u001b[39m\u001b[32m~/Desktop/phd/code/figaro_util.py:65\u001b[39m, in \u001b[36mfind_key\u001b[39m\u001b[34m(S1, S2)\u001b[39m\n\u001b[32m     63\u001b[39m common = \u001b[38;5;28mlist\u001b[39m(\u001b[38;5;28mset\u001b[39m(S1.columns) & \u001b[38;5;28mset\u001b[39m(S2.columns))\n\u001b[32m     64\u001b[39m \u001b[38;5;28;01mif\u001b[39;00m \u001b[38;5;129;01mnot\u001b[39;00m common:\n\u001b[32m---> \u001b[39m\u001b[32m65\u001b[39m     \u001b[38;5;28;01mraise\u001b[39;00m \u001b[38;5;167;01mValueError\u001b[39;00m(\u001b[33m\"\u001b[39m\u001b[33mNo common key found between tables\u001b[39m\u001b[33m\"\u001b[39m)\n\u001b[32m     66\u001b[39m \u001b[38;5;28;01mreturn\u001b[39;00m common\n",
      "\u001b[31mValueError\u001b[39m: No common key found between tables"
     ]
    }
   ],
   "source": [
    "print(all_result(1, tables, tree, {\"X1,2\": \"b1\"}))\n",
    "print()\n",
    "print(all_result(1, tables, tree, {\"X1,2\": \"b2\"}))\n",
    "print()\n",
    "\n",
    "\n",
    "print(all_result(2, tables, tree, {\"X2,3\": \"c1\"}))\n",
    "print()"
   ]
  },
  {
   "cell_type": "code",
   "execution_count": null,
   "id": "ecad0f12-2ad1-45ce-b89a-631dae362900",
   "metadata": {},
   "outputs": [],
   "source": []
  }
 ],
 "metadata": {
  "kernelspec": {
   "display_name": "Python 3 (ipykernel)",
   "language": "python",
   "name": "python3"
  },
  "language_info": {
   "codemirror_mode": {
    "name": "ipython",
    "version": 3
   },
   "file_extension": ".py",
   "mimetype": "text/x-python",
   "name": "python",
   "nbconvert_exporter": "python",
   "pygments_lexer": "ipython3",
   "version": "3.11.13"
  }
 },
 "nbformat": 4,
 "nbformat_minor": 5
}
