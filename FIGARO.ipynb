{
 "cells": [
  {
   "cell_type": "code",
   "execution_count": 27,
   "id": "23e8363d-aa3a-4e5e-b0a2-568f2b395096",
   "metadata": {},
   "outputs": [],
   "source": [
    "import importlib\n",
    "import figaro_util\n",
    "\n",
    "importlib.reload(figaro_util)\n",
    "from figaro_util import *   # refreshes all top-level symbols\n",
    "import ast"
   ]
  },
  {
   "cell_type": "markdown",
   "id": "1e371ae4-4e75-4289-8a25-1f2f41d4eba6",
   "metadata": {},
   "source": [
    "# Three node example #"
   ]
  },
  {
   "cell_type": "code",
   "execution_count": 59,
   "id": "53a8e0f1-eec7-4b1f-bbc5-28e745cfe80f",
   "metadata": {},
   "outputs": [
    {
     "name": "stdout",
     "output_type": "stream",
     "text": [
      "{TreeNode(value=2)}\n",
      "{TreeNode(value=3)}\n",
      "set()\n"
     ]
    }
   ],
   "source": [
    "# create root\n",
    "s1 = TreeNode(1)\n",
    "\n",
    "s2 = TreeNode(2, parent=s1)\n",
    "\n",
    "s3 = TreeNode(3, parent=s2)\n",
    "\n",
    "# add another child explicitly\n",
    "print(s1.children)\n",
    "print(s2.children)\n",
    "print(s3.children)\n",
    "\n",
    "three_node_tree = {\n",
    "    1: s1,\n",
    "    2: s2,\n",
    "    3: s3\n",
    "}"
   ]
  },
  {
   "cell_type": "code",
   "execution_count": 60,
   "id": "cd026afc-606c-4901-8f57-521e5ec57864",
   "metadata": {},
   "outputs": [],
   "source": [
    "import pandas as pd\n",
    "\n",
    "three_node_table_access = {\n",
    "    1: pd.DataFrame({\"Y1\":[\"a1\", \"a2\", \"a3\"], \"X1,2\":[\"b1\", \"b2\", \"b2\"]}),\n",
    "    2: pd.DataFrame({\"X1,2\":[\"b1\", \"b2\", \"b2\", \"b2\"], \"Y2\":[\"10\", \"20\", \"30\", \"40\"], \"X2,3\":[\"c1\", \"c1\", \"c1\", \"c1\"]}),\n",
    "    3: pd.DataFrame({\"X2,3\":[\"c1\", \"c1\"], \"Y3\":[\"d1\", \"d2\"]})\n",
    "}"
   ]
  },
  {
   "cell_type": "code",
   "execution_count": 61,
   "id": "61580b97-79c6-4472-b645-c2ed8b1e9183",
   "metadata": {},
   "outputs": [
    {
     "name": "stdout",
     "output_type": "stream",
     "text": [
      "   Y1 X1,2\n",
      "0  a1   b1\n",
      "\n",
      "   Y1 X1,2\n",
      "0  a2   b2\n",
      "1  a3   b2\n",
      "\n",
      "   Y1 X1,2  Y2 X2,3\n",
      "0  a1   b1  10   c1\n",
      "1  a2   b2  20   c1\n",
      "2  a2   b2  30   c1\n",
      "3  a2   b2  40   c1\n",
      "4  a3   b2  20   c1\n",
      "5  a3   b2  30   c1\n",
      "6  a3   b2  40   c1\n",
      "\n",
      "Empty DataFrame\n",
      "Columns: []\n",
      "Index: []\n",
      "\n"
     ]
    }
   ],
   "source": [
    "print(up_result(2, three_node_table_access, three_node_tree, {\"X1,2\": \"b1\"}))\n",
    "print()\n",
    "print(up_result(2, three_node_table_access, three_node_tree, {\"X1,2\": \"b2\"}))\n",
    "print()\n",
    "print(up_result(3, three_node_table_access, three_node_tree, {\"X2,3\": \"c1\"}))\n",
    "print()\n",
    "print(up_result(1, three_node_table_access, three_node_tree, {}))\n",
    "print()"
   ]
  },
  {
   "cell_type": "code",
   "execution_count": 62,
   "id": "2f9d9bd7-a89a-4efb-a1e3-b8cf44e23b08",
   "metadata": {},
   "outputs": [
    {
     "name": "stdout",
     "output_type": "stream",
     "text": [
      "  X1,2  Y2 X2,3  Y3\n",
      "0   b1  10   c1  d1\n",
      "1   b1  10   c1  d2\n",
      "2   b2  20   c1  d1\n",
      "3   b2  20   c1  d2\n",
      "4   b2  30   c1  d1\n",
      "5   b2  30   c1  d2\n",
      "6   b2  40   c1  d1\n",
      "7   b2  40   c1  d2\n",
      "\n",
      "   Y1 X1,2  Y2 X2,3  Y3\n",
      "0  a1   b1  10   c1  d1\n",
      "1  a1   b1  10   c1  d2\n",
      "\n",
      "    Y1 X1,2  Y2 X2,3  Y3\n",
      "0   a2   b2  20   c1  d1\n",
      "1   a2   b2  20   c1  d2\n",
      "2   a2   b2  30   c1  d1\n",
      "3   a2   b2  30   c1  d2\n",
      "4   a2   b2  40   c1  d1\n",
      "5   a2   b2  40   c1  d2\n",
      "6   a3   b2  20   c1  d1\n",
      "7   a3   b2  20   c1  d2\n",
      "8   a3   b2  30   c1  d1\n",
      "9   a3   b2  30   c1  d2\n",
      "10  a3   b2  40   c1  d1\n",
      "11  a3   b2  40   c1  d2\n",
      "\n"
     ]
    }
   ],
   "source": [
    "print(down_result(2, three_node_table_access, three_node_tree, {\"X2,3\": \"c1\"}))\n",
    "print()\n",
    "print(down_result(1, three_node_table_access, three_node_tree, {\"X1,2\": \"b1\"}))\n",
    "print()\n",
    "print(down_result(1, three_node_table_access, three_node_tree, {\"X1,2\": \"b2\"}))\n",
    "print()"
   ]
  },
  {
   "cell_type": "code",
   "execution_count": 63,
   "id": "39207a4b-7f70-477d-98cf-90059e8790fd",
   "metadata": {},
   "outputs": [
    {
     "name": "stdout",
     "output_type": "stream",
     "text": [
      "  X1,2  Y2 X2,3  Y3\n",
      "0   b1  10   c1  d1\n",
      "1   b1  10   c1  d2\n",
      "\n",
      "  X1,2  Y2 X2,3  Y3\n",
      "0   b2  20   c1  d1\n",
      "1   b2  20   c1  d2\n",
      "2   b2  30   c1  d1\n",
      "3   b2  30   c1  d2\n",
      "4   b2  40   c1  d1\n",
      "5   b2  40   c1  d2\n",
      "\n",
      "   Y1 X1,2 X2,3  Y3\n",
      "0  a1   b1   c1  d1\n",
      "1  a1   b1   c1  d2\n",
      "\n",
      "   Y1 X1,2 X2,3  Y3\n",
      "0  a2   b2   c1  d1\n",
      "1  a2   b2   c1  d2\n",
      "2  a3   b2   c1  d1\n",
      "3  a3   b2   c1  d2\n",
      "\n"
     ]
    }
   ],
   "source": [
    "print(else_result(1, three_node_table_access, three_node_tree, {\"X1,2\": \"b1\"}))\n",
    "print()\n",
    "print(else_result(1, three_node_table_access, three_node_tree, {\"X1,2\": \"b2\"}))\n",
    "print()\n",
    "\n",
    "\n",
    "print(else_result(2, three_node_table_access, three_node_tree, {\"X1,2\": \"b1\", \"X2,3\": \"c1\"}))\n",
    "print()\n",
    "print(else_result(2, three_node_table_access, three_node_tree, {\"X1,2\": \"b2\", \"X2,3\": \"c1\"}))\n",
    "print()"
   ]
  },
  {
   "cell_type": "markdown",
   "id": "80cf2545-318e-41e0-9698-d4e59516cc54",
   "metadata": {},
   "source": [
    "# Four node example #"
   ]
  },
  {
   "cell_type": "code",
   "execution_count": 4,
   "id": "14ee1060-1a85-4427-ba6d-abf0bec8691d",
   "metadata": {},
   "outputs": [
    {
     "name": "stdout",
     "output_type": "stream",
     "text": [
      "{TreeNode(value=2)}\n",
      "{TreeNode(value=3), TreeNode(value=4)}\n",
      "set()\n",
      "set()\n"
     ]
    }
   ],
   "source": [
    "# create root\n",
    "s1 = TreeNode(1)\n",
    "\n",
    "s2 = TreeNode(2, parent=s1)\n",
    "\n",
    "s3 = TreeNode(3, parent=s2)\n",
    "\n",
    "s4 = TreeNode(4, parent=s2)\n",
    "\n",
    "# add another child explicitly\n",
    "print(s1.children)\n",
    "print(s2.children)\n",
    "print(s3.children)\n",
    "print(s4.children)\n",
    "\n",
    "\n",
    "four_node_tree = {\n",
    "    1: s1,\n",
    "    2: s2,\n",
    "    3: s3,\n",
    "    4: s4\n",
    "}"
   ]
  },
  {
   "cell_type": "code",
   "execution_count": 2,
   "id": "5c7f6c84-5551-4867-afa4-470a7945523f",
   "metadata": {},
   "outputs": [],
   "source": [
    "import pandas as pd\n",
    "\n",
    "four_node_table_access = {\n",
    "    1: pd.DataFrame({\n",
    "        \"X1,2\": [\"a1\", \"a2\", \"a2\", \"a3\"],\n",
    "        \"Y1\":   [\"b1\", \"b2\", \"b3\", \"b4\"]\n",
    "    }),\n",
    "    \n",
    "    2: pd.DataFrame({\n",
    "        \"X1,2\": [\"a1\", \"a1\", \"a2\", \"a3\"],\n",
    "        \"X2,3\": [\"c1\", \"c2\", \"c2\", \"c3\"],\n",
    "        \"X2,4\": [\"d1\", \"d1\", \"d2\", \"d3\"],\n",
    "        \"Y2\":   [\"e1\", \"e2\", \"e3\", \"e4\"]\n",
    "    }),\n",
    "    \n",
    "    3: pd.DataFrame({\n",
    "        \"X2,3\": [\"c1\", \"c1\", \"c2\", \"c3\"],\n",
    "        \"Y3\":   [\"f1\", \"f2\", \"f3\", \"f4\"]\n",
    "    }),\n",
    "    \n",
    "    4: pd.DataFrame({\n",
    "        \"X2,4\": [\"d1\", \"d1\", \"d2\", \"d3\"],\n",
    "        \"Y4\":   [\"g1\", \"g2\", \"g3\", \"g4\"]\n",
    "    })\n",
    "}"
   ]
  },
  {
   "cell_type": "code",
   "execution_count": 5,
   "id": "06c58743-be4d-4d19-b801-8c62e5fc258f",
   "metadata": {},
   "outputs": [
    {
     "name": "stdout",
     "output_type": "stream",
     "text": [
      "  X1,2  Y1 X2,3 X2,4  Y2  Y3  Y4\n",
      "0   a1  b1   c1   d1  e1  f1  g1\n",
      "1   a1  b1   c1   d1  e1  f1  g2\n",
      "2   a1  b1   c1   d1  e1  f2  g1\n",
      "3   a1  b1   c1   d1  e1  f2  g2\n",
      "4   a1  b1   c2   d1  e2  f3  g1\n",
      "5   a1  b1   c2   d1  e2  f3  g2\n",
      "6   a2  b2   c2   d2  e3  f3  g3\n",
      "7   a2  b3   c2   d2  e3  f3  g3\n",
      "8   a3  b4   c3   d3  e4  f4  g4\n"
     ]
    }
   ],
   "source": [
    "print(all_result(1, four_node_table_access, four_node_tree))"
   ]
  },
  {
   "cell_type": "code",
   "execution_count": 6,
   "id": "2ed18386-1b36-447d-adbb-affe609c4dae",
   "metadata": {},
   "outputs": [
    {
     "name": "stdout",
     "output_type": "stream",
     "text": [
      "  X1,2 X2,3 X2,4  Y2  Y3  Y4\n",
      "0   a1   c1   d1  e1  f1  g1\n",
      "1   a1   c1   d1  e1  f1  g2\n",
      "2   a1   c1   d1  e1  f2  g1\n",
      "3   a1   c1   d1  e1  f2  g2\n",
      "4   a1   c2   d1  e2  f3  g1\n",
      "5   a1   c2   d1  e2  f3  g2\n"
     ]
    }
   ],
   "source": [
    "print(else_result(1, four_node_table_access, four_node_tree, {\"X1,2\": \"a1\"}))"
   ]
  },
  {
   "cell_type": "code",
   "execution_count": 7,
   "id": "b51ae64f-6d2a-4bae-9540-7b3cfcbdf8e8",
   "metadata": {},
   "outputs": [
    {
     "name": "stdout",
     "output_type": "stream",
     "text": [
      "  X1,2  Y1 X2,3 X2,4  Y3  Y4\n",
      "0   a1  b1   c1   d1  f1  g1\n",
      "1   a1  b1   c1   d1  f1  g2\n",
      "2   a1  b1   c1   d1  f2  g1\n",
      "3   a1  b1   c1   d1  f2  g2\n"
     ]
    }
   ],
   "source": [
    "print(else_result(2, four_node_table_access, four_node_tree, {\"X1,2\": \"a1\", \"X2,3\": \"c1\", \"X2,4\": \"d1\"}))"
   ]
  },
  {
   "cell_type": "markdown",
   "id": "aad4ea78-97bb-48e9-87b8-486c28b5747a",
   "metadata": {},
   "source": [
    "# FIGARO #"
   ]
  },
  {
   "cell_type": "code",
   "execution_count": 28,
   "id": "a617ddd9-6786-4ec1-b92f-8137bb88ef27",
   "metadata": {},
   "outputs": [],
   "source": [
    "def initialise_empty_data(tree_size):\n",
    "    output_columns = [f\"Y{i}\" for i in range(1, tree_size + 1)]\n",
    "    Data = pd.DataFrame(columns=output_columns)\n",
    "    scales = {}\n",
    "    return Data, scales\n",
    "\n",
    "Data, scales = initialise_empty_data(4)"
   ]
  },
  {
   "cell_type": "code",
   "execution_count": 32,
   "id": "021a70ac-1d68-4c8b-acd6-64e31f6c73b0",
   "metadata": {},
   "outputs": [
    {
     "data": {
      "text/plain": [
       "(               Y1 Y2         Y3 Y4\n",
       " {'X2,3': 'c1'}  0  0  H(f1, f2)  0\n",
       " {'X2,3': 'c2'}  0  0      H(f3)  0\n",
       " {'X2,3': 'c3'}  0  0      H(f4)  0,\n",
       " {\"{'X2,3': 'c1'}\": 'sqrt(2)',\n",
       "  \"{'X2,3': 'c2'}\": 'sqrt(1)',\n",
       "  \"{'X2,3': 'c3'}\": 'sqrt(1)'})"
      ]
     },
     "execution_count": 32,
     "metadata": {},
     "output_type": "execute_result"
    }
   ],
   "source": [
    "def figaro(tree_size, index, table_access, tree_access):\n",
    "    Data, scales = initialise_empty_data(tree_size)\n",
    "    head_and_tails(Data, scales, index, table_access, tree_access)\n",
    "    \n",
    "def head_and_tails(Data, scales, index, table_access, tree_access):\n",
    "    current_table = table_access[index]\n",
    "    join_key_columns = sorted([column_name for column_name in current_table.columns.tolist() if column_name.startswith(\"X\")])\n",
    "    output_column = f\"Y{index}\"\n",
    "\n",
    "    # Group by join keys to get lists of Y values\n",
    "    grouped = current_table.groupby(join_key_columns)[output_column].apply(list).reset_index()\n",
    "    \n",
    "    # Directly write each row to Data\n",
    "    for _, row in grouped.iterrows():\n",
    "        row_index = construct_row_index(index, row, join_key_columns)\n",
    "        head_value = Head(row[output_column])\n",
    "        fill_in_data(Data, row_index, output_column, head_value)\n",
    "        # print(row[join_key_columns].to_dict())\n",
    "        # composite_key = f\"{', '.join(row[join_key_columns])}\"\n",
    "        scales[row_index] = f\"sqrt({len(row[output_column])})\"\n",
    "    \n",
    "    return Data, scales\n",
    "\n",
    "head_and_tails(Data, scales, 3, four_node_table_access, four_node_tree)"
   ]
  },
  {
   "cell_type": "code",
   "execution_count": 1,
   "id": "bcf40ed3-270d-447a-85dc-4191c015fea1",
   "metadata": {},
   "outputs": [],
   "source": [
    "def process_and_join_children(Data, scales, index, table_access, tree_access):\n",
    "    current_node = tree_access[index]\n",
    "    current_table = table_access[index]\n",
    "\n",
    "    child_Data_dict = {}\n",
    "    child_scales_dict = {}\n",
    "    \n",
    "    for child in current_node.children:\n",
    "        child_index = child.value\n",
    "        child_Data, child_scales = figaro(tree_size, child_index, table_access, tree_access)\n",
    "        child_Data_dict[child_index] = child_Data\n",
    "        child_scales_dict[child_index] = child_scales\n",
    "        \n",
    "    # Group by join keys to get lists of Y values\n",
    "    grouped = current_table.groupby(join_key_columns)[output_column].apply(list).reset_index()\n",
    "    \n",
    "    for _, row in grouped.iterrows():\n",
    "        print(row[join_key_columns])\n",
    "        composite_key = f\"{', '.join(row[join_key_columns])}\"\n",
    "        \n",
    "        for child in current_node.children:\n",
    "            j = child.value\n",
    "            Data_j = child_Data_dict[j]\n",
    "            scales_j = child_scales_dict[\n",
    "            \n",
    "            all_node_indices = get_all_indices_on_subtree(child)\n",
    "            \n",
    "            for k in all_node_indices:\n",
    "                output_column = f\"Y{k}\"\n",
    "                table_j = table_access[j]\n",
    "                projected_value = Data_j[\n",
    "\n",
    "                # x_ij\n",
    "                common_keys = find_key(current_table, table_j)\n",
    "                \n",
    "                \n",
    "                fill_in_data(Data, row_index, output_column, value)\n",
    "        \n",
    "    # for child in tree_node.children:\n",
    "        \n",
    "        "
   ]
  },
  {
   "cell_type": "code",
   "execution_count": null,
   "id": "cdafbe5b-e153-4243-b9fa-407d0733f539",
   "metadata": {},
   "outputs": [],
   "source": []
  }
 ],
 "metadata": {
  "kernelspec": {
   "display_name": "Python 3 (ipykernel)",
   "language": "python",
   "name": "python3"
  },
  "language_info": {
   "codemirror_mode": {
    "name": "ipython",
    "version": 3
   },
   "file_extension": ".py",
   "mimetype": "text/x-python",
   "name": "python",
   "nbconvert_exporter": "python",
   "pygments_lexer": "ipython3",
   "version": "3.11.13"
  }
 },
 "nbformat": 4,
 "nbformat_minor": 5
}
